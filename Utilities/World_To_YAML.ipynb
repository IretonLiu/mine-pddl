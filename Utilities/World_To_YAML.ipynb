{
 "cells": [
  {
   "cell_type": "code",
   "execution_count": 5,
   "metadata": {},
   "outputs": [],
   "source": [
    "import sys\n",
    "import os \n",
    "import subprocess"
   ]
  },
  {
   "cell_type": "code",
   "execution_count": 6,
   "metadata": {},
   "outputs": [],
   "source": [
    "world_file_path = \"world\"\n",
    "radius = 30"
   ]
  },
  {
   "cell_type": "code",
   "execution_count": 7,
   "metadata": {},
   "outputs": [
    {
     "name": "stdout",
     "output_type": "stream",
     "text": [
      "minecraft:air  : 1,316,660\n",
      "minecraft:oak_leaves: 3,603\n",
      "minecraft:grass_block: 3,478\n",
      "minecraft:dirt : 483\n",
      "minecraft:oak_log: 338\n",
      "minecraft:grass: 113\n",
      "minecraft:cobblestone: 64\n",
      "minecraft:tall_grass: 24\n",
      "minecraft:dandelion: 18\n",
      "minecraft:poppy: 15\n",
      "minecraft:white_wool: 3\n",
      "minecraft:crafting_table: 1\n",
      "\n"
     ]
    }
   ],
   "source": [
    "#Get a list of all the available blocks in the specified world, around the (0, 0) origin in a radius of 30 blocks\n",
    "print(subprocess.run(f\"pyblock list --coords 0 0 --radius {radius} --world {world_file_path}\", \\\n",
    "               shell=True, capture_output=True, text=True).stdout) "
   ]
  },
  {
   "cell_type": "code",
   "execution_count": 8,
   "metadata": {},
   "outputs": [],
   "source": [
    "#Dictionairy Mapping from\n",
    "#PDDL Name -> Minecraft Name\n",
    "#Since the names in the PDDL github repo are not the same as the names in the Minecraft world\n",
    "#Only include the blocks that are needed in the output YAML file\n",
    "block_dict = {\n",
    "    'leaves' : 'oak_leaves',\n",
    "    'log' : 'oak_log',\n",
    "    'cobblestone' : 'cobblestone',\n",
    "    'tallgrass' : 'tall_grass',\n",
    "    'red_flower' : 'poppy',\n",
    "    'yellow_flower' : 'dandelion',\n",
    "    'wool' : 'white_wool',\n",
    "    'crafting_table' : 'crafting_table',\n",
    "\n",
    "    # 'oak_stairs' : 'oak_stairs',\n",
    "    # 'stonebrick' : 'stone_bricks',\n",
    "    # 'wooden_slab' : 'oak_slab',\n",
    "    # 'planks' : 'oak_planks',\n",
    "    # 'glass' : 'glass',\n",
    "    # 'wooden_door' : 'oak_door',\n",
    "    # 'bed' : 'white_bed',\n",
    "    # 'glowstone' : 'glowstone',\n",
    "    # 'chest' : 'chest',\n",
    "\n",
    "    # 'tallgrass' : 'tall_grass',\n",
    "    # 'crafting_table' : 'crafting_table',\n",
    "    # 'water' : 'water'\n",
    "    \n",
    "    # 'cobblestone' : 'cobblestone',\n",
    "    \n",
    "    # 'grass_path' : 'dirt_path',\n",
    "    # 'leaves' : 'oak_leaves',\n",
    "    # 'log' : 'oak_log',\n",
    "    # 'planks' : 'oak_planks',\n",
    "    # 'fence' : 'oak_fence',\n",
    "    # 'glowstone' : 'glowstone',\n",
    "    # 'wool' : 'white_wool',\n",
    "    # 'stonebrick' : 'stone_bricks',\n",
    "    # 'brick' : 'bricks',\n",
    "    # 'glowstone' : 'glowstone',\n",
    "    \n",
    "    # 'wheat' : 'wheat',\n",
    "    # 'farmland' : 'farmland',\n",
    "    # 'glass' : 'glass',\n",
    "    # 'gravel' : 'gravel',\n",
    "    # 'torch' : 'torch',\n",
    "    # 'red_flower' : 'poppy',\n",
    "    # 'yellow_flower' : 'dandelion',\n",
    "    # 'water' : 'water',\n",
    "    # 'wooden_door' : 'oak_door',   \n",
    "    # 'ladder' : 'ladder',\n",
    "    # 'torch' : 'wall_torch',\n",
    "    # 'stone_stairs' : 'cobblestone_stairs',\n",
    "    # 'chest' : 'chest',\n",
    "} "
   ]
  },
  {
   "cell_type": "code",
   "execution_count": 9,
   "metadata": {},
   "outputs": [],
   "source": [
    "#Open a file to write to\n",
    "f = open(\"block_list.yaml\", \"w\")\n",
    "f.write('blocks:\\n')\n",
    "block_count = 0\n",
    "\n",
    "#For each block get a list of its coordinates and parse that to the YAML file\n",
    "for block in block_dict:\n",
    "    command = f\"pyblock find --block {block_dict[block]} --coords 0 0 --radius {radius} --world {world_file_path}\"\n",
    "\n",
    "    # Run the command using subprocess\n",
    "    result = subprocess.run(command, shell=True, capture_output=True, text=True)\n",
    "\n",
    "    block_coords = result.stdout.split('\\n')[2:-3]\n",
    "\n",
    "    for coord in block_coords:\n",
    "        block_count += 1\n",
    "        new_ = coord.split(' ')\n",
    "        new_ = [int(i) for i in new_ if i]\n",
    " \n",
    "        f.write('  - position:\\n')\n",
    "        f.write(f\"      x: '{new_[0]}'\\n\")\n",
    "        f.write(f\"      y: '{new_[1]}'\\n\")\n",
    "        f.write(f\"      z: '{new_[2]}'\\n\")\n",
    "        f.write(f\"    type: {block}\\n\")\n",
    "    \n",
    "f.close()"
   ]
  }
 ],
 "metadata": {
  "kernelspec": {
   "display_name": "uni",
   "language": "python",
   "name": "python3"
  },
  "language_info": {
   "codemirror_mode": {
    "name": "ipython",
    "version": 3
   },
   "file_extension": ".py",
   "mimetype": "text/x-python",
   "name": "python",
   "nbconvert_exporter": "python",
   "pygments_lexer": "ipython3",
   "version": "3.11.4"
  }
 },
 "nbformat": 4,
 "nbformat_minor": 2
}
